{
  "nbformat": 4,
  "nbformat_minor": 0,
  "metadata": {
    "colab": {
      "provenance": []
    },
    "kernelspec": {
      "name": "python3",
      "display_name": "Python 3"
    },
    "language_info": {
      "name": "python"
    }
  },
  "cells": [
    {
      "cell_type": "code",
      "execution_count": null,
      "metadata": {
        "id": "qbOTlJCIBu3X"
      },
      "outputs": [],
      "source": [
        "# Write a program that takes two numbers as input and print their sum\n",
        "\n",
        "num1 = int(input(\"Enter first number: \"))\n",
        "num2 = int(input(\"Enter second number: \"))\n",
        "\n",
        "sum = num1 + num2\n",
        "\n",
        "print(f\"The sum of {num1} and {num2} is {sum}\")\n"
      ]
    },
    {
      "cell_type": "code",
      "source": [
        "# Function to check if a number is even or odd\n",
        "def check_even_odd(num):\n",
        "    if num % 2 == 0:\n",
        "        return \"Even\"\n",
        "    else:\n",
        "        return \"Odd\"\n",
        "\n",
        "num = int(input(\"Enter a number: \"))\n",
        "\n",
        "result = check_even_odd(num)\n",
        "print(f\"The number {num} is {result}\")\n"
      ],
      "metadata": {
        "id": "JrGEa7m2EXZm"
      },
      "execution_count": null,
      "outputs": []
    },
    {
      "cell_type": "code",
      "source": [
        "# Function to calculate factorial\n",
        "def factorial(n):\n",
        "    if n < 0:\n",
        "        return \"Factorial is not defined for negative numbers\"\n",
        "    elif n == 0 or n == 1:\n",
        "        return 1\n",
        "    else:\n",
        "        fact = 1\n",
        "        for i in range(2, n + 1):\n",
        "            fact *= i\n",
        "        return fact\n",
        "\n",
        "num = int(input(\"Enter a number: \"))\n",
        "\n",
        "result = factorial(num)\n",
        "print(f\"The factorial of {num} is {result}\")\n"
      ],
      "metadata": {
        "colab": {
          "base_uri": "https://localhost:8080/"
        },
        "id": "Yp9a9ED7FoQy",
        "outputId": "affd0291-2d9b-416d-a784-d8bc2110a920"
      },
      "execution_count": null,
      "outputs": [
        {
          "output_type": "stream",
          "name": "stdout",
          "text": [
            "Enter a number: 574\n",
            "The factorial of 574 is 12852942221076767727655008749928933716456011297771042569131102296821965283985478308172653985008008656719690957141108839102036686529499884977496382979863872827024126335849026685516058310096760399332311778217242702224804047076424490937502155293737648111819712019659441581963343722570498226161954605025753422460010350777085989502148984368690957502132456501377126266611979403034366848973548370942316978008836745427970631137796611633673290990874092627294062590736166707021173638960006054578900357790351403734121733839335947181148425964767259767486960266813096450498935992947510713455636112926597669242921753371403447525217454861196390674146162430227953026935650539979860255747337233320318138669302523802205101679221289318417343729243326573696689762359456767830300757311808826269161934547405666148813637563158126058097023955712915558650924512791664139985026939758256235878350075539436312073269922475630756021928621471422443672861879394766529259703864300727032778529275869291228680621149713602137300477464954698873711526177743463990558925963861956963107514548834231030335515165032680638773997091525340001012412348974772396061973618520128275657152545471590920160972592905422653273705957326461520669625548800000000000000000000000000000000000000000000000000000000000000000000000000000000000000000000000000000000000000000000000000000000000000000000\n"
          ]
        }
      ]
    },
    {
      "cell_type": "code",
      "source": [
        "\n",
        "name = input(\"What is your name? \")\n",
        "\n",
        "\n",
        "print(f\"Hello, {name}! HAPPY BIRTHDAY.\")\n"
      ],
      "metadata": {
        "colab": {
          "base_uri": "https://localhost:8080/"
        },
        "id": "XocS8ikXGSEW",
        "outputId": "fd632599-bbe1-46bf-d11f-6f9645eda970"
      },
      "execution_count": null,
      "outputs": [
        {
          "output_type": "stream",
          "name": "stdout",
          "text": [
            "What is your name? Anjana\n",
            "Hello, Anjana! HAPPY BIRTHDAY.\n"
          ]
        }
      ]
    },
    {
      "cell_type": "code",
      "source": [
        "#Write a program that takes a string input from the user and writes it to txt file.\n",
        "\n",
        "user_input = input(\"Enter a string: \")\n",
        "\n",
        "filename = \"user_input.txt\"\n",
        "with open(filename, 'w') as file:\n",
        "    file.write(user_input)\n",
        "\n",
        "print(f\"String '{user_input}' has been written to '{filename}'\")\n"
      ],
      "metadata": {
        "colab": {
          "base_uri": "https://localhost:8080/"
        },
        "id": "EIBZMiNlHVfh",
        "outputId": "514732c7-5950-4516-e17b-d8cc8772082d"
      },
      "execution_count": null,
      "outputs": [
        {
          "output_type": "stream",
          "name": "stdout",
          "text": [
            "Enter a string: Welcome\n",
            "String 'Welcome' has been written to 'user_input.txt'\n"
          ]
        }
      ]
    },
    {
      "cell_type": "code",
      "source": [
        "#Write a program that reads the content of a text file and prints it to the console.\n",
        "\n",
        "filename = \"sample.txt\"\n",
        "\n",
        "try:\n",
        "    with open(filename, 'r') as file:\n",
        "        content = file.read()\n",
        "        print(\"Content of the file:\")\n",
        "        print(content)\n",
        "except FileNotFoundError:\n",
        "    print(f\"Error: The file '{filename}' does not exist.\")\n",
        "except IOError:\n",
        "    print(f\"Error: Could not read the file '{filename}'.\")\n"
      ],
      "metadata": {
        "colab": {
          "base_uri": "https://localhost:8080/"
        },
        "id": "m7ShrDhUJOvV",
        "outputId": "2a70285e-cbbf-46e6-903e-5387bee00750"
      },
      "execution_count": null,
      "outputs": [
        {
          "output_type": "stream",
          "name": "stdout",
          "text": [
            "Error: The file 'sample.txt' does not exist.\n"
          ]
        }
      ]
    },
    {
      "cell_type": "code",
      "source": [
        "#Write a python program that takes a string as input and returns its length\n",
        "\n",
        "user_input = input(\"Enter a string: \")\n",
        "\n",
        "length = len(user_input)\n",
        "\n",
        "print(f\"The length of the string '{user_input}' is {length}\")\n"
      ],
      "metadata": {
        "colab": {
          "base_uri": "https://localhost:8080/"
        },
        "id": "Mx8QHYysMLvU",
        "outputId": "7d5c7b0e-0276-42ba-9665-916c64737dd2"
      },
      "execution_count": null,
      "outputs": [
        {
          "output_type": "stream",
          "name": "stdout",
          "text": [
            "Enter a string: My name is Anjana.\n",
            "The length of the string 'My name is Anjana.' is 18\n"
          ]
        }
      ]
    },
    {
      "cell_type": "code",
      "source": [
        "#Write a python program that concatenates two strings and returns the result.\n",
        "\n",
        "def concatenate_strings(str1, str2):\n",
        "    return str1 + str2\n",
        "\n",
        "string1 = input(\"Enter the first string: \")\n",
        "string2 = input(\"Enter the second string: \")\n",
        "\n",
        "result = concatenate_strings(string1, string2)\n",
        "print(f\"The concatenated string is: {result}\")\n"
      ],
      "metadata": {
        "colab": {
          "base_uri": "https://localhost:8080/"
        },
        "id": "LUH4RNUaMmgC",
        "outputId": "ac5be4c6-4e06-4364-c9de-c5efd6ab36ae"
      },
      "execution_count": null,
      "outputs": [
        {
          "output_type": "stream",
          "name": "stdout",
          "text": [
            "Enter the first string: My name\n",
            "Enter the second string: is Anjana.\n",
            "The concatenated string is: My nameis Anjana.\n"
          ]
        }
      ]
    },
    {
      "cell_type": "code",
      "source": [
        "#Write a python program that checks if a substring is present in a given string.\n",
        "\n",
        "def check_substring(main_string, substring):\n",
        "    if substring in main_string:\n",
        "        return True\n",
        "    else:\n",
        "        return False\n",
        "\n",
        "main_string = input(\"Enter the main string: \")\n",
        "substring = input(\"Enter the substring to check: \")\n",
        "\n",
        "if check_substring(main_string, substring):\n",
        "    print(f\"The substring '{substring}' is present in the main string '{main_string}'.\")\n",
        "else:\n",
        "    print(f\"The substring '{substring}' is not present in the main string '{main_string}'.\")\n"
      ],
      "metadata": {
        "colab": {
          "base_uri": "https://localhost:8080/"
        },
        "id": "rSiH4_3nNJ22",
        "outputId": "4db52a98-4369-4c5f-a64b-7bb94872b0c3"
      },
      "execution_count": null,
      "outputs": [
        {
          "output_type": "stream",
          "name": "stdout",
          "text": [
            "Enter the main string: My name is Anjana.\n",
            "Enter the substring to check: Anjana\n",
            "The substring 'Anjana' is present in the main string 'My name is Anjana.'.\n"
          ]
        }
      ]
    },
    {
      "cell_type": "code",
      "source": [
        "#Write a python program that converts a given string to uppercase.\n",
        "\n",
        "def convert_to_uppercase(input_string):\n",
        "    return input_string.upper()\n",
        "\n",
        "user_input = input(\"Enter a string: \")\n",
        "\n",
        "uppercase_string = convert_to_uppercase(user_input)\n",
        "\n",
        "print(f\"The uppercase version of '{user_input}' is '{uppercase_string}'\")\n"
      ],
      "metadata": {
        "colab": {
          "base_uri": "https://localhost:8080/"
        },
        "id": "VMH-5xuKNq0Z",
        "outputId": "ad0df125-7731-4e07-fedc-78d85dd92f38"
      },
      "execution_count": null,
      "outputs": [
        {
          "output_type": "stream",
          "name": "stdout",
          "text": [
            "Enter a string: My name is Anjana\n",
            "The uppercase version of 'My name is Anjana' is 'MY NAME IS ANJANA'\n"
          ]
        }
      ]
    },
    {
      "cell_type": "code",
      "source": [
        "#Write a python program that generates the first n numbers in the Fibonacci sequence.\n",
        "\n",
        "def fibonacci_sequence(n):\n",
        "    fib_sequence = []\n",
        "    if n <= 0:\n",
        "        return fib_sequence\n",
        "    elif n == 1:\n",
        "        fib_sequence.append(0)\n",
        "    elif n == 2:\n",
        "        fib_sequence.extend([0, 1])\n",
        "    else:\n",
        "        fib_sequence.extend([0, 1])\n",
        "        for i in range(2, n):\n",
        "            fib_sequence.append(fib_sequence[-1] + fib_sequence[-2])\n",
        "    return fib_sequence\n",
        "\n",
        "n = int(input(\"Enter the number of Fibonacci numbers to generate: \"))\n",
        "\n",
        "fibonacci_numbers = fibonacci_sequence(n)\n",
        "\n",
        "print(f\"The first {n} Fibonacci numbers are: {fibonacci_numbers}\")\n",
        "\n"
      ],
      "metadata": {
        "colab": {
          "base_uri": "https://localhost:8080/"
        },
        "id": "PgnRihDmPSqS",
        "outputId": "1fbe295f-5c98-4baa-bf12-de64713f5e44"
      },
      "execution_count": null,
      "outputs": [
        {
          "output_type": "stream",
          "name": "stdout",
          "text": [
            "Enter the number of Fibonacci numbers to generate: 42\n",
            "The first 42 Fibonacci numbers are: [0, 1, 1, 2, 3, 5, 8, 13, 21, 34, 55, 89, 144, 233, 377, 610, 987, 1597, 2584, 4181, 6765, 10946, 17711, 28657, 46368, 75025, 121393, 196418, 317811, 514229, 832040, 1346269, 2178309, 3524578, 5702887, 9227465, 14930352, 24157817, 39088169, 63245986, 102334155, 165580141]\n"
          ]
        }
      ]
    },
    {
      "cell_type": "code",
      "source": [
        "Write a python program that calculates the sum of the digits of a given\n",
        "number.\n",
        "\n",
        "def sum_of_digits(number):\n",
        "    sum_digits = 0\n",
        "    while number > 0:\n",
        "        sum_digits += number % 1\n",
        "        number //= 10\n",
        "    return sum_digits\n",
        "\n",
        "num = int(input(\"Enter a number: \"))\n",
        "\n",
        "result = sum_of_digits(num)\n",
        "\n",
        "print(f\"The sum of digits of {num} is {result}\")\n"
      ],
      "metadata": {
        "id": "AmZWVjvSP47w",
        "outputId": "7876e399-2f26-4cb0-dfed-ad5c5ff67a47",
        "colab": {
          "base_uri": "https://localhost:8080/",
          "height": 106
        }
      },
      "execution_count": null,
      "outputs": [
        {
          "output_type": "error",
          "ename": "SyntaxError",
          "evalue": "invalid syntax (<ipython-input-1-ad9bbc546fcb>, line 1)",
          "traceback": [
            "\u001b[0;36m  File \u001b[0;32m\"<ipython-input-1-ad9bbc546fcb>\"\u001b[0;36m, line \u001b[0;32m1\u001b[0m\n\u001b[0;31m    Write a python program that calculates the sum of the digits of a given\u001b[0m\n\u001b[0m          ^\u001b[0m\n\u001b[0;31mSyntaxError\u001b[0m\u001b[0;31m:\u001b[0m invalid syntax\n"
          ]
        }
      ]
    },
    {
      "cell_type": "code",
      "source": [
        "#Write a program that ask the user for their birth year and calculate their age.\n",
        "\n",
        "current_year = 2024\n",
        "birth_year = input(\"Enter your birth year: \")\n",
        "birth_year = int(birth_year)\n",
        "age = current_year - birth_year\n",
        "print(f\"You are {age} years old.\")\n"
      ],
      "metadata": {
        "colab": {
          "base_uri": "https://localhost:8080/"
        },
        "id": "8bKWCwNIGbpP",
        "outputId": "921b8b72-2c77-4c63-89a5-2e11ebf14cb4"
      },
      "execution_count": null,
      "outputs": [
        {
          "output_type": "stream",
          "name": "stdout",
          "text": [
            "Enter your birth year: 2004\n",
            "You are 20 years old.\n"
          ]
        }
      ]
    },
    {
      "cell_type": "code",
      "source": [
        "#Write a program to read multiple lines of input from the user until they enter an empty line, then prints all the line.\n",
        "\n",
        "def main():\n",
        "    lines = []\n",
        "\n",
        "    print(\"Enter multiple lines of text. Enter an empty line to stop:\")\n",
        "\n",
        "    while True:\n",
        "        line = input()\n",
        "        if line == \"\":\n",
        "            break\n",
        "        lines.append(line)\n",
        "\n",
        "    print(\"\\nLines entered:\")\n",
        "    for line in lines:\n",
        "        print(line)\n",
        "\n",
        "if __name__ == \"__main__\":\n",
        "    main()\n",
        "\n"
      ],
      "metadata": {
        "colab": {
          "base_uri": "https://localhost:8080/"
        },
        "id": "c__dnbz5IjLi",
        "outputId": "c12aca6a-569d-47ab-8fb0-cc57d86ee18f"
      },
      "execution_count": null,
      "outputs": [
        {
          "name": "stdout",
          "output_type": "stream",
          "text": [
            "Enter multiple lines of text. Enter an empty line to stop:\n",
            "my name is anjana\n"
          ]
        }
      ]
    },
    {
      "cell_type": "code",
      "source": [
        "# Write a program in python that counts the frequency of each character in a string.\n",
        "\n",
        "def count_characters(s):\n",
        "\n",
        "    frequency = {}\n",
        "\n",
        "    for char in s:\n",
        "        frequency[char] = frequency.get(char, 0) + 1\n",
        "\n",
        "    return frequency\n",
        "\n",
        "def main():\n",
        "    input_string = input(\"Enter a string: \")\n",
        "\n",
        "    char_frequency = count_characters(input_string)\n",
        "\n",
        "    print(\"\\nCharacter frequencies:\")\n",
        "    for char, freq in char_frequency.items():\n",
        "        print(f\"{char}: {freq}\")\n",
        "\n",
        "if __name__ == \"__main__\":\n",
        "    main()\n"
      ],
      "metadata": {
        "id": "_1b9p3Y7MkVS"
      },
      "execution_count": null,
      "outputs": []
    },
    {
      "cell_type": "code",
      "source": [
        "# Write a program in python that converts a given string to title case (first letter of each word capitalised).\n",
        "\n",
        "def title_case(input_string):\n",
        "    words = input_string.split()\n",
        "\n",
        "    capitalized_words = []\n",
        "\n",
        "    for word in words:\n",
        "        capitalized_word = word.capitalize()\n",
        "        capitalized_words.append(capitalized_word)\n",
        "\n",
        "    title_case_string = ' '.join(capitalized_words)\n",
        "\n",
        "    return title_case_string\n",
        "\n",
        "def main():\n",
        "    input_string = input(\"Enter a string: \")\n",
        "\n",
        "    title_case_string = title_case(input_string)\n",
        "\n",
        "    print(\"\\nString in title case:\")\n",
        "    print(title_case_string)\n",
        "\n",
        "if __name__ == \"__main__\":\n",
        "    main()\n"
      ],
      "metadata": {
        "id": "Tq4xe4hINnQF"
      },
      "execution_count": null,
      "outputs": []
    },
    {
      "cell_type": "code",
      "source": [
        "#Write a program to check if two strings are anagrams of each other.\n",
        "\n",
        "def are_anagrams(str1, str2):\n",
        "    str1 = str1.replace(\" \", \"\").lower()\n",
        "    str2 = str2.replace(\" \", \"\").lower()\n",
        "\n",
        "    if len(str1) != len(str2):\n",
        "        return False\n",
        "\n",
        "    frequency1 = {}\n",
        "    frequency2 = {}\n",
        "\n",
        "    for char in str1:\n",
        "        frequency1[char] = frequency1.get(char, 0) + 1\n",
        "\n",
        "    for char in str2:\n",
        "        frequency2[char] = frequency2.get(char, 0) + 1\n",
        "\n",
        "    return frequency1 == frequency2\n",
        "\n",
        "def main():\n",
        "    string1 = input(\"Enter the first string: \")\n",
        "    string2 = input(\"Enter the second string: \")\n",
        "\n",
        "    if are_anagrams(string1, string2):\n",
        "        print(\"\\nThe two strings are anagrams of each other.\")\n",
        "    else:\n",
        "        print(\"\\nThe two strings are not anagrams.\")\n",
        "\n",
        "if __name__ == \"__main__\":\n",
        "    main()\n"
      ],
      "metadata": {
        "id": "_oI0N1pkOaQj"
      },
      "execution_count": null,
      "outputs": []
    },
    {
      "cell_type": "code",
      "source": [
        "#Write a python program to remove all punctuations from a given string.\n",
        "\n",
        "import string\n",
        "\n",
        "def remove_punctuation(input_string):\n",
        "    punctuations = set(string.punctuation)\n",
        "\n",
        "    no_punctuation_string = \"\"\n",
        "\n",
        "    for char in input_string:\n",
        "        if char not in punctuations:\n",
        "            no_punctuation_string += char\n",
        "\n",
        "    return no_punctuation_string\n",
        "\n",
        "def main():\n",
        "    input_string = input(\"Enter a string with punctuation: \")\n",
        "\n",
        "    result_string = remove_punctuation(input_string)\n",
        "\n",
        "    print(\"\\nString without punctuation:\")\n",
        "    print(result_string)\n",
        "\n",
        "if __name__ == \"__main__\":\n",
        "    main()\n"
      ],
      "metadata": {
        "id": "dBLBr-1JO8AI"
      },
      "execution_count": null,
      "outputs": []
    },
    {
      "cell_type": "code",
      "source": [
        "#write a python program that takes a list of numbers and return their sum.\n",
        "\n",
        "def main():\n",
        "    input_string = input(\"Enter a list of numbers separated by spaces: \")\n",
        "\n",
        "    numbers = list(map(int, input_string.split()))\n",
        "\n",
        "    total_sum = sum(numbers)\n",
        "\n",
        "    print(\"\\nSum of the numbers:\", total_sum)\n",
        "\n",
        "if __name__ == \"__main__\":\n",
        "    main()\n"
      ],
      "metadata": {
        "id": "N7DuBjrjP6Ou"
      },
      "execution_count": null,
      "outputs": []
    },
    {
      "cell_type": "code",
      "source": [
        "# Python code to count the number of occurrences of specific element.\n",
        "\n",
        "\n",
        "def countX(lst, x):\n",
        "\tcount = 0\n",
        "\tfor ele in lst:\n",
        "\t\tif (ele == x):\n",
        "\t\t\tcount = count + 1\n",
        "\treturn count\n",
        "\n",
        "\n",
        "# Driver Code\n",
        "lst = [8, 6, 8, 10, 8, 20, 10, 8, 8]\n",
        "x = 8\n",
        "print('{} has occurred {} times'.format(x,\n",
        "\t\t\t\t\t\t\t\t\t\t\t\t\t\t\tcountX(lst, x)))\n"
      ],
      "metadata": {
        "id": "DQShu3THQnAz"
      },
      "execution_count": null,
      "outputs": []
    },
    {
      "cell_type": "code",
      "source": [
        "#Wite a python program that returns min amd max value from the list of numbers.\n",
        "\n",
        "def find_min_max(numbers):\n",
        "    if not numbers:\n",
        "        return None, None  # Return None if the list is empty\n",
        "\n",
        "    min_value = numbers[0]\n",
        "    max_value = numbers[0]\n",
        "\n",
        "    for number in numbers:\n",
        "        if number < min_value:\n",
        "            min_value = number\n",
        "        if number > max_value:\n",
        "            max_value = number\n",
        "\n",
        "    return min_value, max_value\n",
        "\n",
        "# Example usage\n",
        "numbers = [3, 1, 4, 1, 5, 9, 2, 6, 5, 3, 5]\n",
        "min_value, max_value = find_min_max(numbers)\n",
        "print(f\"The minimum value is: {min_value}\")\n",
        "print(f\"The maximum value is: {max_value}\")\n",
        "\n",
        "\n",
        "\n",
        "\n",
        "\n"
      ],
      "metadata": {
        "id": "wglPGnbmQ9tN"
      },
      "execution_count": null,
      "outputs": []
    },
    {
      "cell_type": "code",
      "source": [
        "Write a python program that converts temperature fro celsius to fahrenheit and vice versa.\n",
        "\n",
        "def celsius_to_fahrenheit(celsius):\n",
        "    return (celsius * 9/5) + 32\n",
        "\n",
        "def fahrenheit_to_celsius(fahrenheit):\n",
        "    return (fahrenheit - 32) * 5/9\n",
        "\n",
        "def main():\n",
        "    choice = input(\"Enter '1' to convert Celsius to Fahrenheit, '2' for Fahrenheit to Celsius: \")\n",
        "\n",
        "    if choice == '1':\n",
        "        celsius = float(input(\"Enter temperature in Celsius: \"))\n",
        "        print(f\"{celsius}°C is {celsius_to_fahrenheit(celsius):.2f}°F\")\n",
        "    elif choice == '2':\n",
        "        fahrenheit = float(input(\"Enter temperature in Fahrenheit: \"))\n",
        "        print(f\"{fahrenheit}°F is {fahrenheit_to_celsius(fahrenheit):.2f}°C\")\n",
        "    else:\n",
        "        print(\"Invalid choice. Please enter '1' or '2'.\")\n",
        "\n",
        "if __name__ == \"__main__\":\n",
        "    main()\n",
        "\n",
        "\n",
        "\n",
        "\n",
        "\n",
        "\n",
        "\n",
        "\n",
        "\n",
        "\n",
        "\n",
        "\n",
        "\n",
        "\n",
        "\n",
        "\n",
        "\n",
        "\n"
      ],
      "metadata": {
        "id": "CpOBLfpVSqIk"
      },
      "execution_count": null,
      "outputs": []
    },
    {
      "cell_type": "code",
      "source": [
        "##Write a program that acts as a simple calculator . It should take two numbers and an operator (+,-,*,/) as input and print theresult.\n",
        "\n",
        "\n",
        "def add(x, y):\n",
        "    return x + y\n",
        "\n",
        "def subtract(x, y):\n",
        "    return x - y\n",
        "\n",
        "def multiply(x, y):\n",
        "    return x * y\n",
        "\n",
        "def divide(x, y):\n",
        "    if y == 0:\n",
        "        return \"Error! Division by zero.\"\n",
        "    return x / y\n",
        "\n",
        "def main():\n",
        "    num1 = float(input(\"Enter the first number: \"))\n",
        "    operator = input(\"Enter an operator (+, -, *, /): \")\n",
        "    num2 = float(input(\"Enter the second number: \"))\n",
        "\n",
        "    if operator == '+':\n",
        "        print(f\"The result is: {add(num1, num2)}\")\n",
        "    elif operator == '-':\n",
        "        print(f\"The result is: {subtract(num1, num2)}\")\n",
        "    elif operator == '*':\n",
        "        print(f\"The result is: {multiply(num1, num2)}\")\n",
        "    elif operator == '/':\n",
        "        print(f\"The result is: {divide(num1, num2)}\")\n",
        "    else:\n",
        "        print(\"Invalid operator. Please enter one of +, -, *, /.\")\n",
        "\n",
        "if __name__ == \"__main__\":\n",
        "    main()"
      ],
      "metadata": {
        "id": "203hf-7iUEG0"
      },
      "execution_count": null,
      "outputs": []
    },
    {
      "cell_type": "code",
      "source": [
        "#write a program in python that checks if a string starts with a given prefix or end with a given suffix.\n",
        "\n",
        "\n",
        "def check_prefix_suffix(string, prefix, suffix):\n",
        "    starts_with_prefix = string.startswith(prefix)\n",
        "    ends_with_suffix = string.endswith(suffix)\n",
        "    return starts_with_prefix, ends_with_suffix\n",
        "\n",
        "def main():\n",
        "    string = input(\"Enter the string: \")\n",
        "    prefix = input(\"Enter the prefix to check: \")\n",
        "    suffix = input(\"Enter the suffix to check: \")\n",
        "\n",
        "    starts_with, ends_with = check_prefix_suffix(string, prefix, suffix)\n",
        "\n",
        "    if starts_with:\n",
        "        print(f\"The string starts with the prefix '{prefix}'.\")\n",
        "    else:\n",
        "        print(f\"The string does not start with the prefix '{prefix}'.\")\n",
        "\n",
        "    if ends_with:\n",
        "        print(f\"The string ends with the suffix '{suffix}'.\")\n",
        "    else:\n",
        "        print(f\"The string does not end with the suffix '{suffix}'.\")\n",
        "\n",
        "if __name__ == \"__main__\":\n",
        "    main()\n"
      ],
      "metadata": {
        "id": "ukwnDGJmW4sV"
      },
      "execution_count": null,
      "outputs": []
    },
    {
      "cell_type": "code",
      "source": [
        "#Write a program in python that converts a string into a list of its characters.\n",
        "\n",
        "\n",
        "def string_to_char_list(string):\n",
        "    return list(string)\n",
        "\n",
        "def main():\n",
        "    string = input(\"Enter a string: \")\n",
        "    char_list = string_to_char_list(string)\n",
        "    print(f\"The list of characters is: {char_list}\")\n",
        "\n",
        "if __name__ == \"__main__\":\n",
        "    main()\n"
      ],
      "metadata": {
        "id": "mKZ1Qut_XtUJ"
      },
      "execution_count": null,
      "outputs": []
    },
    {
      "cell_type": "markdown",
      "source": [
        "# New section"
      ],
      "metadata": {
        "id": "avtVuEC4DpSN"
      }
    }
  ]
}